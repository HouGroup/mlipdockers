{
 "cells": [
  {
   "cell_type": "code",
   "execution_count": 2,
   "id": "0186a345-f99f-4e9f-9552-1f6c7332d321",
   "metadata": {},
   "outputs": [],
   "source": [
    "from pymatgen.core.structure import Structure\n",
    "from pymatgen.io.ase import AseAtomsAdaptor"
   ]
  },
  {
   "cell_type": "code",
   "execution_count": 19,
   "id": "dd9a6cd7-2e60-4047-affb-4514ed94527f",
   "metadata": {},
   "outputs": [],
   "source": [
    "import json"
   ]
  },
  {
   "cell_type": "code",
   "execution_count": 3,
   "id": "023ade77-3772-46c7-b7dc-0d46d6b79cae",
   "metadata": {},
   "outputs": [],
   "source": [
    "atoms = AseAtomsAdaptor.get_atoms(Structure.from_file('Li3MnCoNiO6.cif'))"
   ]
  },
  {
   "cell_type": "code",
   "execution_count": 6,
   "id": "8b6d0ce1-998e-40de-b337-fa19b9146d0e",
   "metadata": {},
   "outputs": [],
   "source": [
    "import docker"
   ]
  },
  {
   "cell_type": "code",
   "execution_count": 8,
   "id": "2bb2893c-a313-42fa-a251-b2bee5d9d9e3",
   "metadata": {},
   "outputs": [],
   "source": [
    "def run_docker_task(command, image_name):\n",
    "    client = docker.from_env()  # 创建 Docker 客户端\n",
    "    # 运行容器并执行任务\n",
    "    container = client.containers.run(\n",
    "        image_name,\n",
    "        f\"{command}\",  # 传递输入值给容器的 Python 脚本\n",
    "        detach=True,       # 在后台运行容器\n",
    "        stdout=True,       # 捕获标准输出\n",
    "        stderr=True        # 捕获标准错误\n",
    "    )\n",
    "    output = container.decode(\"utf-8\").strip()  # 获取并解码输出\n",
    "    return output"
   ]
  },
  {
   "cell_type": "code",
   "execution_count": 39,
   "id": "2daccfc8-3611-4bbb-8c98-a75af3978869",
   "metadata": {},
   "outputs": [],
   "source": [
    "import os"
   ]
  },
  {
   "cell_type": "code",
   "execution_count": 40,
   "id": "0cfa272c-7b25-48e4-9116-ac0a59d8ad8d",
   "metadata": {},
   "outputs": [
    {
     "name": "stderr",
     "output_type": "stream",
     "text": [
      "docker: Error response from daemon: Ports are not available: exposing port TCP 0.0.0.0:5000 -> 0.0.0.0:0: listen tcp 0.0.0.0:5000: bind: address already in use.\n"
     ]
    },
    {
     "data": {
      "text/plain": [
       "32000"
      ]
     },
     "execution_count": 40,
     "metadata": {},
     "output_type": "execute_result"
    }
   ],
   "source": [
    "os.system('docker run -p 5000:5000 mace-cpu')"
   ]
  },
  {
   "cell_type": "code",
   "execution_count": 39,
   "id": "ec96d90c-cc89-4f88-816c-0349f5582218",
   "metadata": {},
   "outputs": [],
   "source": [
    "import requests\n",
    "import json\n",
    "import docker\n",
    "import time\n",
    "import socket\n",
    "\n",
    "def is_port_available(port):\n",
    "    with socket.socket(socket.AF_INET, socket.SOCK_STREAM) as s:\n",
    "        result = s.connect_ex(('localhost', port))\n",
    "        return result != 0  # 如果端口可用，connect_ex 返回值为 0，否则为非 0\n",
    "\n",
    "# 获取一个可用端口\n",
    "def get_available_port(start_port=5000, end_port=6000):\n",
    "    for port in range(start_port, end_port):\n",
    "        if is_port_available(port):\n",
    "            return port\n",
    "    raise Exception(\"No available port found in the range\")\n",
    "\n",
    "class docker_socket:\n",
    "    def __init__(self, image_name, start_port=5000, end_port=6000):\n",
    "        self.pt = get_available_port(start_port, end_port)\n",
    "        self.container = client.containers.run(\n",
    "            image_name,\n",
    "            detach=True,          # 使容器在后台运行\n",
    "            ports={'5000/tcp': self.pt}  # 映射容器的 5000 端口到主机的 5000 端口\n",
    "        )\n",
    "        timeout = 60  # 超时时间为 60 秒\n",
    "        start_time = time.time()\n",
    "        while True:\n",
    "            # 获取容器日志\n",
    "            logs = container.logs()\n",
    "            if b\"Running on\" in logs:  # 假设 Flask 输出 \"Running on\" 日志\n",
    "                print(\"Flask service is ready.\")\n",
    "                break\n",
    "            if time.time() - start_time > timeout:\n",
    "                print(\"Timeout waiting for Flask app to start.\")\n",
    "                break\n",
    "            time.sleep(2)\n",
    "    def request(self, dinput):\n",
    "        url = f\"http://localhost:{self.pt}/predict\"\n",
    "        try:\n",
    "            response = requests.post(url, json = dinput)\n",
    "            if response.status_code == 200:\n",
    "                return {response.json()}\n",
    "            else:\n",
    "                print(f\"Error: {response.status_code} - {response.text}\")\n",
    "        except requests.exceptions.RequestException as e:\n",
    "            print(f\"Request failed: {str(e)}\")\n",
    "    def close(self):\n",
    "        self.container.stop()\n",
    "        self.container.remove()"
   ]
  }
 ],
 "metadata": {
  "kernelspec": {
   "display_name": "Python 3 (ipykernel)",
   "language": "python",
   "name": "python3"
  },
  "language_info": {
   "codemirror_mode": {
    "name": "ipython",
    "version": 3
   },
   "file_extension": ".py",
   "mimetype": "text/x-python",
   "name": "python",
   "nbconvert_exporter": "python",
   "pygments_lexer": "ipython3",
   "version": "3.12.7"
  }
 },
 "nbformat": 4,
 "nbformat_minor": 5
}
