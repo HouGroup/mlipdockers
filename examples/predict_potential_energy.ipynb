{
 "cells": [
  {
   "cell_type": "code",
   "execution_count": 1,
   "id": "04a01184-b2a8-4a85-ac11-d3bcc7e47f57",
   "metadata": {},
   "outputs": [],
   "source": [
    "from ys_mlipdk.core import MlipCalc\n",
    "from pymatgen.core.structure import Structure"
   ]
  },
  {
   "cell_type": "code",
   "execution_count": 14,
   "id": "de899683-0288-4d14-ad4b-c7a897065185",
   "metadata": {},
   "outputs": [
    {
     "name": "stdout",
     "output_type": "stream",
     "text": [
      "default settings\n",
      "{'model': 'medium', 'device': 'cpu'}\n",
      "crpi-aqvrppj8ebnguc34.cn-shenzhen.personal.cr.aliyuncs.com/jinlhr542/mace:0.0.1 container initializing...\n",
      "Flask service is ready.\n",
      "Performing initialization calculation ...\n",
      "initialization completed\n"
     ]
    }
   ],
   "source": [
    "#image_name: chgnet, grace-2l, mace, orb-models, sevenn\n",
    "mc = MlipCalc(image_name = 'mace')"
   ]
  },
  {
   "cell_type": "code",
   "execution_count": 15,
   "id": "68129bac-d3a3-4fbe-b023-e3bd496bd43a",
   "metadata": {},
   "outputs": [
    {
     "data": {
      "text/plain": [
       "-7.357424632886531"
      ]
     },
     "execution_count": 15,
     "metadata": {},
     "output_type": "execute_result"
    }
   ],
   "source": [
    "#predict total potential energy\n",
    "lattice = [[5.0, 0.0, 0.0], [0.0, 5.0, 0.0], [0.0, 0.0, 5.0]]\n",
    "atoms = [(\"Si\", [0, 0, 0]), (\"Si\", [1.5, 1.5, 1.5])]\n",
    "structure = Structure(lattice, [atom[0] for atom in atoms], [atom[1] for atom in atoms])\n",
    "E_total = mc.calculate(structure)\n",
    "E_total"
   ]
  },
  {
   "cell_type": "markdown",
   "id": "4a89167a-af41-4397-9c2c-12c6638518e6",
   "metadata": {},
   "source": [
    "# Just use mc for multiple calculation before close it!"
   ]
  },
  {
   "cell_type": "code",
   "execution_count": 16,
   "id": "18b7f840-54ba-4ebb-a396-8d2057599e0c",
   "metadata": {},
   "outputs": [],
   "source": [
    "#remember to close!\n",
    "mc.close()"
   ]
  }
 ],
 "metadata": {
  "kernelspec": {
   "display_name": "Python 3 (ipykernel)",
   "language": "python",
   "name": "python3"
  },
  "language_info": {
   "codemirror_mode": {
    "name": "ipython",
    "version": 3
   },
   "file_extension": ".py",
   "mimetype": "text/x-python",
   "name": "python",
   "nbconvert_exporter": "python",
   "pygments_lexer": "ipython3",
   "version": "3.12.7"
  }
 },
 "nbformat": 4,
 "nbformat_minor": 5
}
